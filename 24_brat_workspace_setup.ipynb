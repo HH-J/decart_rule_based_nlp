{
 "cells": [
  {
   "cell_type": "markdown",
   "metadata": {},
   "source": [
    "## Workspace setup\n",
    "\n",
    "We are using the [brat annotation tool](http://brat.nlplab.org/) to practice setting up a manual annotation project. Brat is a browser-based tool that requires text files to be placed in a folder within a brat directory. To avoid annotation conflict with other students, you need to create your workspace within the BRAT directory. \n",
    "\n",
    "This notebook will help you set up your brat project for the next excercise.\n",
    "\n",
    "To avoid any unintentional file manipulations, please set variable \"usr\" to your github username. That will be the name of your workspace."
   ]
  },
  {
   "cell_type": "code",
   "execution_count": 21,
   "metadata": {},
   "outputs": [],
   "source": [
    "# Set variable unid to your github username\n",
    "\n",
    "usr = \"YOUR_USERNAME\""
   ]
  },
  {
   "cell_type": "markdown",
   "metadata": {},
   "source": [
    "Let's copy an unannotated Brat project to your directory."
   ]
  },
  {
   "cell_type": "code",
   "execution_count": 22,
   "metadata": {},
   "outputs": [],
   "source": [
    "!cp -r ~/BRAT/unannotated ~/BRAT/$usr"
   ]
  },
  {
   "cell_type": "markdown",
   "metadata": {},
   "source": [
    "Server: https://brat.jupyter.med.utah.edu/. \n",
    "\n",
    "Brat login password:\n",
    "\n",
    "U_0f_U-Bi0inf0rmatics"
   ]
  },
  {
   "cell_type": "markdown",
   "metadata": {},
   "source": [
    "\n",
    "\n",
    "### There are many annotation tools you can use - they all have pros and cons\n",
    "![image.png](./images/Slide19.png)"
   ]
  },
  {
   "cell_type": "markdown",
   "metadata": {},
   "source": [
    "<br/><br/>This material presented as part of the DeCART Data Science for the Health Science Summer Program at the University of Utah in 2019.<br/>\n",
    "Presenters : Dr. Wendy Chapman, Kelly Peterson, Alec Chapman, Jianlin Shi <br> Acknowledgement: Many thanks to Olga Patterson because part of the materials are adopted from his previous work."
   ]
  },
  {
   "cell_type": "code",
   "execution_count": null,
   "metadata": {},
   "outputs": [],
   "source": []
  }
 ],
 "metadata": {
  "kernelspec": {
   "display_name": "Python 3",
   "language": "python",
   "name": "python3"
  },
  "language_info": {
   "codemirror_mode": {
    "name": "ipython",
    "version": 3
   },
   "file_extension": ".py",
   "mimetype": "text/x-python",
   "name": "python",
   "nbconvert_exporter": "python",
   "pygments_lexer": "ipython3",
   "version": "3.7.3"
  },
  "toc": {
   "base_numbering": 1,
   "nav_menu": {},
   "number_sections": true,
   "sideBar": true,
   "skip_h1_title": false,
   "title_cell": "Table of Contents",
   "title_sidebar": "Contents",
   "toc_cell": false,
   "toc_position": {},
   "toc_section_display": true,
   "toc_window_display": false
  }
 },
 "nbformat": 4,
 "nbformat_minor": 2
}
