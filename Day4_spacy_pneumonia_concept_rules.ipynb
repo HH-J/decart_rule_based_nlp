{
 "cells": [
  {
   "cell_type": "code",
   "execution_count": 1,
   "metadata": {},
   "outputs": [
    {
     "name": "stdout",
     "output_type": "stream",
     "text": [
      "Total matches found: 0\n"
     ]
    }
   ],
   "source": [
    "import spacy\n",
    "from spacy.matcher import Matcher\n",
    "\n",
    "nlp = spacy.load(\"en_core_web_sm\")\n",
    "matcher = Matcher(nlp.vocab)\n",
    "\n",
    "doc = nlp(\n",
    "    \"Patchy consolidation on the left lower lobe\"\n",
    ")\n",
    "\n",
    "matches = matcher(doc)\n",
    "\n",
    "print(\"Total matches found:\", len(matches))\n",
    "\n",
    "# Iterate over the matches and print the span text\n",
    "for match_id, start, end in matches:\n",
    "    print(\"Match found:\", doc[start:end].text)"
   ]
  },
  {
   "cell_type": "code",
   "execution_count": 2,
   "metadata": {},
   "outputs": [
    {
     "name": "stdout",
     "output_type": "stream",
     "text": [
      "Total matches found: 2\n",
      "Match found: Patchy consolidation\n",
      "Match found: lower lobe\n"
     ]
    }
   ],
   "source": [
    "# Write a pattern for adjective plus one or two nouns\n",
    "consolidation_pattern = [{\"POS\": \"ADJ\"}, {\"LEMMA\": \"consolidation\"}]\n",
    "lobe_pattern = [{\"POS\": \"ADJ\"}, {\"LEMMA\": \"lobe\"}]\n",
    "\n",
    "# Add the pattern to the matcher and apply the matcher to the doc\n",
    "matcher.add(\"ADJ_CONSOLIDATION\", None, consolidation_pattern)\n",
    "matcher.add(\"LOBE\", None, lobe_pattern)\n",
    "matches = matcher(doc)\n",
    "print(\"Total matches found:\", len(matches))\n",
    "\n",
    "# Iterate over the matches and print the span text\n",
    "for match_id, start, end in matches:\n",
    "    print(\"Match found:\", doc[start:end].text)"
   ]
  },
  {
   "cell_type": "code",
   "execution_count": 3,
   "metadata": {},
   "outputs": [
    {
     "name": "stdout",
     "output_type": "stream",
     "text": [
      "Total matches found: 3\n",
      "Match found: Patchy consolidation\n",
      "Match found: lower lobe\n",
      "Match found: left lower lobe\n"
     ]
    }
   ],
   "source": [
    "# Now let's use OP to capture multiple ADJECTIVES\n",
    "lobe_pattern = [{\"POS\": \"ADJ\", \"OP\" : \"+\"}, {\"LEMMA\": \"lobe\"}]\n",
    "\n",
    "# Add the pattern to the matcher and apply the matcher to the doc\n",
    "matcher.add(\"LOBE\", None, lobe_pattern)\n",
    "matches = matcher(doc)\n",
    "print(\"Total matches found:\", len(matches))\n",
    "\n",
    "# Iterate over the matches and print the span text\n",
    "for match_id, start, end in matches:\n",
    "    print(\"Match found:\", doc[start:end].text)"
   ]
  },
  {
   "cell_type": "code",
   "execution_count": 4,
   "metadata": {},
   "outputs": [],
   "source": [
    "doc2 = nlp(\n",
    "    \"Infiltrates seen suggesting possibility of pneumonia\"\n",
    ")"
   ]
  },
  {
   "cell_type": "code",
   "execution_count": 5,
   "metadata": {},
   "outputs": [
    {
     "name": "stdout",
     "output_type": "stream",
     "text": [
      "Total matches found: 1\n",
      "Match found: Infiltrates\n"
     ]
    }
   ],
   "source": [
    "# Now let's use OP to capture multiple ADJECTIVES\n",
    "infiltrate_pattern = [{\"LEMMA\": \"infiltrate\"}]\n",
    "\n",
    "# Add the pattern to the matcher and apply the matcher to the doc\n",
    "matcher.add(\"INFILTRATE\", None, infiltrate_pattern)\n",
    "matches = matcher(doc2)\n",
    "print(\"Total matches found:\", len(matches))\n",
    "\n",
    "# Iterate over the matches and print the span text\n",
    "for match_id, start, end in matches:\n",
    "    print(\"Match found:\", doc2[start:end].text)"
   ]
  },
  {
   "cell_type": "code",
   "execution_count": null,
   "metadata": {},
   "outputs": [],
   "source": []
  }
 ],
 "metadata": {
  "kernelspec": {
   "display_name": "Python [conda env:root] *",
   "language": "python",
   "name": "conda-root-py"
  },
  "language_info": {
   "codemirror_mode": {
    "name": "ipython",
    "version": 3
   },
   "file_extension": ".py",
   "mimetype": "text/x-python",
   "name": "python",
   "nbconvert_exporter": "python",
   "pygments_lexer": "ipython3",
   "version": "3.7.3"
  }
 },
 "nbformat": 4,
 "nbformat_minor": 2
}
