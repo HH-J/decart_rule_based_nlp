{
 "cells": [
  {
   "cell_type": "code",
   "execution_count": 8,
   "metadata": {},
   "outputs": [],
   "source": [
    "import urllib.request\n",
    "import os\n",
    "import codecs\n",
    "import zipfile\n",
    "import pandas as pd\n",
    "from IPython.display import display, HTML\n",
    "import sklearn.metrics\n",
    "\n",
    "# and also our utilities for this class\n",
    "from nlp_pneumonia_utils import Annotation\n",
    "from nlp_pneumonia_utils import AnnotatedDocument\n",
    "from nlp_pneumonia_utils import read_brat_annotations\n",
    "from nlp_pneumonia_utils import read_doc_annotations\n",
    "from nlp_pneumonia_utils import read_annotations\n",
    "from nlp_pneumonia_utils import calculate_prediction_metrics\n",
    "from nlp_pneumonia_utils import mark_text\n",
    "from nlp_pneumonia_utils import clearPyConTextRegularExpressions\n",
    "from nlp_pneumonia_utils import pneumonia_annotation_html_markup"
   ]
  },
  {
   "cell_type": "markdown",
   "metadata": {},
   "source": [
    "## First, we'll load in our dataset but throughout these notebooks, there are a lot of utility functions used.  \n",
    "\n",
    "### (OPTIONAL) Feel free to look at them here in the repository : <a href=\"https://github.com/UUDeCART/decart_rule_based_nlp/blob/master/nlp_pneumonia_utils.py\">nlp_pneumonia_utils.py</a> "
   ]
  },
  {
   "cell_type": "code",
   "execution_count": 9,
   "metadata": {},
   "outputs": [
    {
     "name": "stdout",
     "output_type": "stream",
     "text": [
      "Reading annotations from file : data/training_v2.zip\n",
      "Opening local file : data/training_v2.zip\n",
      "Total Annotated Documents : 70\n",
      "Total Positive Pneumonia Documents : 34\n"
     ]
    }
   ],
   "source": [
    "# First thing, let's load our training set\n",
    "annotated_doc_map = read_doc_annotations('data/training_v2.zip')\n",
    "\n",
    "# let's also use a simple list of documents as well as this map\n",
    "annotated_docs = list(annotated_doc_map.values())\n",
    "print('Total Annotated Documents : {0}'.format(len(annotated_docs)))\n",
    "\n",
    "total_positives = 0\n",
    "for anno_doc in annotated_docs:\n",
    "    if anno_doc.positive_label:\n",
    "        total_positives += 1\n",
    "    \n",
    "print('Total Positive Pneumonia Documents : {0}'.format(total_positives))"
   ]
  },
  {
   "cell_type": "code",
   "execution_count": 10,
   "metadata": {},
   "outputs": [],
   "source": [
    "# let's find the document with the most annotations\n",
    "most_annotated_doc = None\n",
    "for anno_doc in annotated_docs:\n",
    "    if most_annotated_doc is None or len(anno_doc.annotations) > len(most_annotated_doc.annotations):\n",
    "        most_annotated_doc = anno_doc\n",
    "        #print('Most Annotations so far : {}'.format(len(most_annotated_doc.annotations)))"
   ]
  },
  {
   "cell_type": "markdown",
   "metadata": {},
   "source": [
    "## Next, recall annotations annotated by our expert.  Note that there are 3 total annotation types in this set : \n",
    "1. **PNEUMONIA_DOC_YES* -> Document shows **active** or **possible** case of pneumonia\n",
    "2. **PNEUMONIA_DOC_NO** -> Document shows **no evidence** of pneumonia\n",
    "3. **EVIDENCE_OF_PNEUMONIA** -> Spans of phrases/sentence which show positive or possible evidence of pneumonia which led the expert annotator to the final document-level conclusion"
   ]
  },
  {
   "cell_type": "markdown",
   "metadata": {},
   "source": [
    "## Let's render one of our annotated documents in HTML.  When using the function 'pneumonia_annotation_html_markup' these show up as the colors:\n",
    "1. **PNEUMONIA_DOC_YES** -> RED\n",
    "2. **PNEUMONIA_DOC_NO** -> GREEN\n",
    "3. **EVIDENCE_OF_PNEUMONIA** -> RED"
   ]
  },
  {
   "cell_type": "code",
   "execution_count": 11,
   "metadata": {},
   "outputs": [
    {
     "data": {
      "text/html": [
       "<p> <br><br><br>     <span style=\"font-weight: bold;color: red;\">DATE:</span> [**2721-6-30**] 9:45 PM<br>     CHEST (PA & LAT)                                                Clip # [**Clip Number (Radiology) 13923**]<br>     Reason: Pleural effusions? Nodules?                                 <br>     Admitting Diagnosis: LYMPHOMA<br>     ______________________________________________________________________________<br>     UNDERLYING MEDICAL CONDITION:<br>      37 year old woman with DVT, ? PE on VQ, with workup for probable malignancy.    <br>     REASON FOR THIS EXAMINATION:<br>      Pleural effusions? Nodules?                                                     <br>     ______________________________________________________________________________<br>                                     FINAL REPORT<br>     HISTORY:  37 year old woman with DVT and ?PE.  Being worked up for a probable<br>     malignancy.<br>     <br>     CHEST PA AND LATERAL:  The heart size is normal.  <span style=\"font-weight: bold;color: red;\">There is an area of<br>     increased opacity</span> lateral to the right paratracheal stripe.  <span style=\"font-weight: bold;color: red;\">In the right<br>     upper lobe, there is a small focal opacity.</span>  The lungs are otherwise clear.<br>     There are no pleural effusions.  Osseous and soft-tissue structures are<br>     unremarkable.<br>     <br>     IMPRESSION:  <span style=\"font-weight: bold;color: red;\">Small focal opacity in right upper lobe</span> and right paratracheal<br>     opacity.  In the setting of possibly malignancy, CT scan of the chest is<br>     recommended for further evaluation.<br><br> </p>"
      ],
      "text/plain": [
       "<IPython.core.display.HTML object>"
      ]
     },
     "metadata": {},
     "output_type": "display_data"
    }
   ],
   "source": [
    "# let's display one of our documents in HTML\n",
    "display(HTML(pneumonia_annotation_html_markup(most_annotated_doc).replace('\\n', '<br>')))"
   ]
  },
  {
   "cell_type": "code",
   "execution_count": null,
   "metadata": {},
   "outputs": [],
   "source": []
  }
 ],
 "metadata": {
  "kernelspec": {
   "display_name": "Python [default]",
   "language": "python",
   "name": "python3"
  },
  "language_info": {
   "codemirror_mode": {
    "name": "ipython",
    "version": 3
   },
   "file_extension": ".py",
   "mimetype": "text/x-python",
   "name": "python",
   "nbconvert_exporter": "python",
   "pygments_lexer": "ipython3",
   "version": "3.6.3"
  }
 },
 "nbformat": 4,
 "nbformat_minor": 2
}
