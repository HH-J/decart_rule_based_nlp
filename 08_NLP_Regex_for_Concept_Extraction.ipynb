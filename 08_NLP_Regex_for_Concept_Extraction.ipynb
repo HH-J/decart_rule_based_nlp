{
 "cells": [
  {
   "cell_type": "markdown",
   "metadata": {
    "collapsed": true
   },
   "source": [
    "# Regular Expression for Concept Extraction"
   ]
  },
  {
   "cell_type": "markdown",
   "metadata": {},
   "source": [
    "## Language\n",
    "\n",
    "With language, we use a large, but finite vocabulary to describe the world. These descriptions are composed of words and phrases that can be predicted with some regularity. For instance, when describing 'infiltration', we can use phrases like  'infiltration', 'infiltrate', 'infiltrated', etc. written using letters that are placed together with some regularity. We can readily identify the infiltration written with these three expressions by identifying the pattern for constructing these lexical variants. What do these three words have in common? \n"
   ]
  },
  {
   "cell_type": "markdown",
   "metadata": {},
   "source": [
    "$${\\bf infiltrat}e$$\n",
    "$${\\bf infiltrat}ed$$\n",
    "$${\\bf infiltrat}ion$$"
   ]
  },
  {
   "cell_type": "markdown",
   "metadata": {},
   "source": [
    "## Representing patterns\n",
    "\n",
    "Regular expressions aka regex are string statements that represent the regularity in the text that you would like to leverage to extract a concept. Regex is a powerful and commonly used tool for natural language processing and has been used for several tasks:\n",
    "\n",
    "* redacting patient protected health information from text for research\n",
    "* extract family history information for genetic studies\n",
    "* identify and classify a patient's smoking status\n",
    "* parsing an excel spreadsheet to generate population statistics about childhood asthma\n",
    "\n",
    "For this lesson, we will complete a high-level overview of regexs. For more detailed documentation and explanations, please see the <a href=\"https://docs.python.org/3/library/re.html\">Python regex documentation</a>\n",
    "\n",
    "Let's get started - we will start by importing the re module from the python package."
   ]
  },
  {
   "cell_type": "code",
   "execution_count": null,
   "metadata": {
    "collapsed": false
   },
   "outputs": [],
   "source": [
    "import re\n",
    "from IPython.display import display, Math, Latex\n",
    "from IPython.display import YouTubeVideo\n",
    "\n",
    "# let's also do a quiz\n",
    "from regular_expression_quiz import which_a_string_not_matched\n",
    "from regular_expression_quiz import test_infiltrates_expression"
   ]
  },
  {
   "cell_type": "markdown",
   "metadata": {},
   "source": [
    "Now, before we begin, we will review the various ways regex expressions can be applied. The general approach to using regexs is 1) to compile the search pattern and then 2) to apply the compiled regex to a segment of text:\n",
    "\n",
    "$$complied\\_expression = re.compile(pattern)$$\n",
    "$$extracted\\_text = complied\\_expression.match(string)$$\n",
    "\n",
    "However, we can simplify this two-step process into one-step as follows:\n",
    "\n",
    "$$result = re.match(pattern, string)$$\n"
   ]
  },
  {
   "cell_type": "markdown",
   "metadata": {},
   "source": [
    "## Applying regexs\n",
    "\n",
    "There are several ways a regex pattern can be applied to text (below are just a few):\n",
    "- search: checks for a match anywhere in the string"
   ]
  },
  {
   "cell_type": "code",
   "execution_count": null,
   "metadata": {
    "collapsed": false
   },
   "outputs": [],
   "source": [
    "re.search(\"and\", \"head and eyes and ears and nose and throat\")"
   ]
  },
  {
   "cell_type": "markdown",
   "metadata": {},
   "source": [
    "- match: checks for a match only at the beginning of the string"
   ]
  },
  {
   "cell_type": "code",
   "execution_count": null,
   "metadata": {
    "collapsed": true
   },
   "outputs": [],
   "source": [
    "re.match('cardiovascular', \"patient has cardiovascular disease.\")"
   ]
  },
  {
   "cell_type": "markdown",
   "metadata": {},
   "source": [
    "- findall: returns all matches of the expression from the string"
   ]
  },
  {
   "cell_type": "code",
   "execution_count": null,
   "metadata": {
    "collapsed": false
   },
   "outputs": [],
   "source": [
    "re.findall('cardiovascular', \"cardiovascular: patient has cardiovascular disease.\")"
   ]
  },
  {
   "cell_type": "markdown",
   "metadata": {},
   "source": [
    "- finditer: returns all matches of the expression from the string in an iterative fashion."
   ]
  },
  {
   "cell_type": "code",
   "execution_count": null,
   "metadata": {
    "collapsed": false
   },
   "outputs": [],
   "source": [
    "for extracted in re.finditer('pain(?= in)', \"pain on the neck; pain in the jaw\"):\n",
    "    print(extracted)\n"
   ]
  },
  {
   "cell_type": "markdown",
   "metadata": {},
   "source": [
    "## Acting like string functions we already know\n",
    "\n",
    "Regexs also share some common functions with strings (below are just a few):\n",
    "- split: splits the text string into smaller parts based on the pattern, returning a list of the remaining text pieces\n",
    "        "
   ]
  },
  {
   "cell_type": "code",
   "execution_count": null,
   "metadata": {
    "collapsed": false
   },
   "outputs": [],
   "source": [
    "output=re.split(\"and\", \"pain  and extreme discomfort\") \n",
    "for item in output:\n",
    "  print (item.strip()+\"<\")\n"
   ]
  },
  {
   "cell_type": "markdown",
   "metadata": {},
   "source": [
    "- sub: substitutes the string extracted by the pattern with a new string, returning a string"
   ]
  },
  {
   "cell_type": "code",
   "execution_count": null,
   "metadata": {
    "collapsed": false
   },
   "outputs": [],
   "source": [
    "re.sub(\"and\", \"or\", \"head and eyes and ears and nose and throat\") "
   ]
  },
  {
   "cell_type": "markdown",
   "metadata": {},
   "source": [
    "- subn: substitutes the string extracted by the pattern with a new string, returning a tuple with the replaced string and the number of times the substitution was made\n"
   ]
  },
  {
   "cell_type": "code",
   "execution_count": null,
   "metadata": {
    "collapsed": false
   },
   "outputs": [],
   "source": [
    "re.subn(\"and\", \"or\", \"head and eyes and ears and nose and throat\") "
   ]
  },
  {
   "cell_type": "markdown",
   "metadata": {},
   "source": [
    "## Character classes"
   ]
  },
  {
   "cell_type": "markdown",
   "metadata": {},
   "source": [
    "Regular expressions represent the strings text that you would like to included and excluded when extracting a string representing a concept. For instance, in the sentence below, we can 1) make a regular expression that only identifies numbers using the *regular expression character class* string \"\\d\", which means one digit 2) compile the expression, and 3) apply the expression to the sentence text."
   ]
  },
  {
   "cell_type": "code",
   "execution_count": null,
   "metadata": {
    "collapsed": false
   },
   "outputs": [],
   "source": [
    "re.findall('\\d', \"patient is a 91-year old male with 2 broken fingers.\")"
   ]
  },
  {
   "cell_type": "markdown",
   "metadata": {},
   "source": [
    "Conversely we can generate and apply a *regular expression character class* string that identifies everything, but the numbers by using the string \"\\D\"."
   ]
  },
  {
   "cell_type": "markdown",
   "metadata": {},
   "source": [
    "## Coding exercise\n",
    "\n",
    "Create and apply the \\w+ and \\W+ to the text above. What do you see?"
   ]
  },
  {
   "cell_type": "code",
   "execution_count": null,
   "metadata": {
    "collapsed": false
   },
   "outputs": [],
   "source": [
    "re.findall('\\w+', \"patient is a 9-year old male with 2 broken fingers.\")"
   ]
  },
  {
   "cell_type": "markdown",
   "metadata": {},
   "source": [
    "There are a handful of *regular expression character class* including:\n",
    "\n",
    "* \\d   =  One digit -- equivalent to the set [0-9]\n",
    "* \\D   =  One non-digit \n",
    "* \\s   =  One whitespace -- equivalent to the set [ \\t\\n\\r\\f\\v] (i.e. space, tab, newline, carriage return, form feed, vertical tab)\n",
    "* \\S   =  One non-white space\n",
    "* \\w   =  One word character -- equivalent to [a-zA-Z0-9_]\n",
    "* \\W   =  One non-word character\n"
   ]
  },
  {
   "cell_type": "markdown",
   "metadata": {},
   "source": [
    "## Useful character class : Word boundary\n",
    "Sometimes it is very useful working in text to match a certain characters both no more.  For example if a regular expression was written as :\n",
    "\n",
    "* 'cat'\n",
    "\n",
    "This would match the substring 'cat' when found in all of the following words:\n",
    "* cat\n",
    "* category\n",
    "* categories\n",
    "* scatter\n",
    "* etc...\n",
    "\n",
    "For this purpose, the word boundary character class exists:\n",
    "\n",
    "* \\b\n",
    "\n",
    "From the Python documentation:\n",
    "\n",
    "Matches the empty string, but only at the beginning or end of a word. A word is defined as a sequence of Unicode alphanumeric or underscore characters, so the end of a word is indicated by whitespace or a non-alphanumeric, non-underscore Unicode character. Note that formally, \\b is defined as the boundary between a \\w and a \\W character (or vice versa), or between \\w and the beginning/end of the string. This means that r'\\bfoo\\b' matches 'foo', 'foo.', '(foo)', 'bar foo baz' but not 'foobar' or 'foo3'."
   ]
  },
  {
   "cell_type": "markdown",
   "metadata": {},
   "source": [
    "## Let's say that we want to match only 'cat' and none of the other examples above.  Let's see what would happen without word boundaries:"
   ]
  },
  {
   "cell_type": "code",
   "execution_count": null,
   "metadata": {
    "collapsed": false
   },
   "outputs": [],
   "source": [
    "# let's try an experiment:\n",
    "cat_text = 'My cat likes to put each category into multiple categories until everyone scatters!'\n",
    "\n",
    "cat_expression_1 = r'cat'\n",
    "cat_matches_1 = re.findall(cat_expression_1, cat_text)\n",
    "print('Here are all of the matches on the first expression:')\n",
    "print(cat_matches_1)"
   ]
  },
  {
   "cell_type": "markdown",
   "metadata": {},
   "source": [
    "## We got 4 matches using the expression above and we only wanted one.  Let's see if we can fix that with the word boundary class:"
   ]
  },
  {
   "cell_type": "code",
   "execution_count": null,
   "metadata": {
    "collapsed": false
   },
   "outputs": [],
   "source": [
    "cat_expression_2 = r'\\bcat\\b'\n",
    "cat_matches_2 = re.findall(cat_expression_2, cat_text)\n",
    "print('Here are all of the matches on the second updated expression:')\n",
    "print(cat_matches_2)"
   ]
  },
  {
   "cell_type": "markdown",
   "metadata": {},
   "source": [
    "# Or matching\n",
    "Regular expresions are powerful since there are special characters that allow for matching multipl sequences or regular expressions at once:\n",
    "\n",
    "* | = match either regular expression on either side of the | symbol  \n",
    "\n",
    "From the Python documentation linked above : 'A|B, where A and B can be arbitrary REs, creates a regular expression that will match either A or B. An arbitrary number of REs can be separated by the '|' in this way'."
   ]
  },
  {
   "cell_type": "code",
   "execution_count": null,
   "metadata": {
    "collapsed": false
   },
   "outputs": [],
   "source": [
    "color_text = 'i love the colors blue, green, red and purple but I do not like orange.'\n",
    "\n",
    "color_expression = '(blue|green|red|purple)'\n",
    "color_matches = re.findall(color_expression, color_text)\n",
    "\n",
    "print(color_matches)\n",
    "\n",
    "if 'yellow' in color_matches:\n",
    "    print('yellow was matched in this case')\n",
    "else:\n",
    "    print('yellow was not matched in this case')"
   ]
  },
  {
   "cell_type": "markdown",
   "metadata": {},
   "source": [
    "# Or matching quiz\n",
    "\n",
    "Change the regular expression below so that 'hair' is also part of the match"
   ]
  },
  {
   "cell_type": "code",
   "execution_count": null,
   "metadata": {
    "collapsed": false
   },
   "outputs": [],
   "source": [
    "anatomy_text = 'Patient physical showed that they had heart, head, nose, mouth and hair'\n",
    "\n",
    "# update the regular expression below so that 'hair' is matched by the code below\n",
    "anatomy_expression = '(heart|head|nose|mouth|UPDATE_ME)'\n",
    "\n",
    "anatomy_matches = re.findall(anatomy_expression, anatomy_text)\n",
    "\n",
    "print('Anatomy matches : ' + str(anatomy_matches))\n",
    "\n",
    "if len(set(['heart', 'head', 'nose', 'mouth']).intersection(set(anatomy_matches))) != 4:\n",
    "    print('INCORRECT! Some of the strings previously matched are no longer matching.  Make sure that heart, head, nose and mouth can all still match!')\n",
    "elif 'hair' not in anatomy_matches:\n",
    "    print('INCORRECT! hair was not matched by your regular expression.  Please try again.')\n",
    "else:\n",
    "    print('CORRECT! hair was matched.  Great job!')\n",
    "    "
   ]
  },
  {
   "cell_type": "markdown",
   "metadata": {},
   "source": [
    "## Sequencing range and quantifier patterns \n",
    "\n",
    "For some string extractions, we may be interested in placing restrictions to the sequence of characters that can and can not occur before or after a set of characters. For instance, in our first example, we are interested in including the characters f-e-v-e-r followed by zero or more alphabetical letters. We can write a regular expression to represent this constraint using two *sequencing range* and *quantifier*. A *sequencing range* indicates the units in a range, denoted with [], of characters e.g., alphabetical letters or numbers, that can occur in a statement. A *quanitifier* indicates how many of these characters within the range. \n",
    "\n",
    "*Sequencing range* examples include:\n",
    "- [0-9] = any number between 0 and 9 e.g, 0,1,2,3,4,5..9\n",
    "- [a-z] = any lower case letter between a and z e.g., a,b,c,d...z\n",
    "- [A-Z] = any capitial case letter between A and Z e.g., A, B, ..C.\n",
    "- [A-Za-z0-9] = any alphanumeric regardless of case e.g., A, a, B, b,.. 0, 1..\n",
    "\n",
    "\n",
    "*Quantifier* simple examples include:\n",
    "- \\*\t = 0 or more\n",
    "- \\+\t = 1 or more\n",
    "- ?\t = 0 or 1\n",
    "\n",
    "Let's create a regular expression using a sequencing range and a quantifier above."
   ]
  },
  {
   "cell_type": "code",
   "execution_count": null,
   "metadata": {
    "collapsed": false
   },
   "outputs": [],
   "source": [
    "txt=\"Patient states fevers she felt feverish before developing many fevers, but no longer has a fever.\"\n",
    "\n",
    "# this will return a list of matches\n",
    "fever_matches = re.findall('fever\\w*', txt)\n",
    "\n",
    "# let's print out all the matches\n",
    "print(fever_matches)"
   ]
  },
  {
   "cell_type": "code",
   "execution_count": null,
   "metadata": {
    "collapsed": false
   },
   "outputs": [],
   "source": [
    "re.findall('\\w+', \"patient is a 9-year old male with 2 broken fingers.\")"
   ]
  },
  {
   "cell_type": "markdown",
   "metadata": {},
   "source": [
    "## Quiz question : Quantifiers\n",
    "\n",
    "## Update the function below to pass in the string which would NOT be matched by this regular expression:\n",
    "## 'ah+'\n",
    "\n",
    "* a\n",
    "* ah\n",
    "* ahh\n",
    "* ahhhhhhhhhhhhhhhhhhhhhhhhhhhhhhhhhhhhhhhhhhhhhhhhhhhhhhhh"
   ]
  },
  {
   "cell_type": "code",
   "execution_count": null,
   "metadata": {
    "collapsed": false
   },
   "outputs": [],
   "source": [
    "which_a_string_not_matched('PUT_YOUR_ANSWER_HERE')"
   ]
  },
  {
   "cell_type": "markdown",
   "metadata": {},
   "source": [
    "## Quiz question : Quantifiers and Plurals\n",
    "\n",
    "## Update the function below to pass in a regular expression that will match the following strings:\n",
    "\n",
    "* infiltrate\n",
    "* infiltrates\n",
    "\n",
    "## But not match:\n",
    "* infiltratess\n",
    "\n",
    "## HINT : You may want to use the \"?\" special character and also consider the \"\\b\" character class to enforce word boundaries on a match"
   ]
  },
  {
   "cell_type": "code",
   "execution_count": null,
   "metadata": {
    "collapsed": false
   },
   "outputs": [],
   "source": [
    "test_infiltrates_expression(r'infiltrate[s]?')"
   ]
  },
  {
   "cell_type": "markdown",
   "metadata": {},
   "source": [
    "# STOP!  Regular expressions are a complex and deep topic.  Let's stop here for now but please come back to this notebook later in the course or sometime after to learn more about more advanced topics in regular expressions"
   ]
  },
  {
   "cell_type": "code",
   "execution_count": null,
   "metadata": {
    "collapsed": true
   },
   "outputs": [],
   "source": []
  },
  {
   "cell_type": "markdown",
   "metadata": {},
   "source": [
    "## Advanced Quantifiers\n",
    "*Quantifier* examples also include:\n",
    "- {5} = 5 exactly\n",
    "- {5,7} = between 5 and 7\n",
    "- {1, } = 1 or more\n",
    "- {, 4} = up to 4"
   ]
  },
  {
   "cell_type": "markdown",
   "metadata": {},
   "source": [
    "## Positional patterns\n",
    "\n",
    "For some expressions the position of the string is an important aspect to capture. \n",
    "\n",
    "*Positional* examples:\n",
    "- ^ Match the start of the string\n",
    "- $ Match the end of the string\n",
    "\n",
    "For example, in the sentence below, we may only be interested in identifying the headers from the text strings. How can we apply the *positional expression* to capture the headers?"
   ]
  },
  {
   "cell_type": "code",
   "execution_count": null,
   "metadata": {
    "collapsed": false
   },
   "outputs": [],
   "source": [
    "txt=\"cardiovascular: patient has cardiovascular\"\n",
    "re.search('cardiovascular$', txt)"
   ]
  },
  {
   "cell_type": "markdown",
   "metadata": {},
   "source": [
    "## Obtaining span offsets\n",
    "\n",
    "The expression found the string 'cardiovascular' at the start of the sentence rather than near the end. We can not only find strings, but we can verify this claim and obtain information about the string identified using match, which will give us the span and the matched string below."
   ]
  },
  {
   "cell_type": "code",
   "execution_count": null,
   "metadata": {
    "collapsed": false
   },
   "outputs": [],
   "source": [
    "matched=re.match('^cardiovascular', txt)\n",
    "print(matched)\n",
    "print(\"match:\", matched.group())\n",
    "print(\"span:\", matched.start(),matched.end())"
   ]
  },
  {
   "cell_type": "markdown",
   "metadata": {},
   "source": [
    "Identifying the start and end of a string can be important for many reasons:\n",
    "* marking up text with denoting information of interest using html or xml\n",
    "* redacting sensitive information from text\n",
    "\n",
    "Below we demonstrate how to apply the matched string from the pattern back onto the original text by splicing the string according to the start and end of the matched pattern."
   ]
  },
  {
   "cell_type": "code",
   "execution_count": null,
   "metadata": {
    "collapsed": false
   },
   "outputs": [],
   "source": [
    "txt[matched.start():matched.end()]"
   ]
  },
  {
   "cell_type": "markdown",
   "metadata": {
    "collapsed": true
   },
   "source": [
    "## Extracting a set of strings\n",
    "\n",
    "In some cases, we may want to extract a group of strings that match a more complex pattern.\n",
    "To do this we will use a pattern with the following syntax: $$(?P<name>...)$$ \n",
    "\n",
    "Note you can retrieve the individual span parts using the 'name' or position in the retrieved tuple. "
   ]
  },
  {
   "cell_type": "code",
   "execution_count": null,
   "metadata": {
    "collapsed": false
   },
   "outputs": [],
   "source": [
    "txt=\"admission date:6/15-2015.\"\n",
    "fullSpan=re.match(r\"admission date:\\s*(?P<month>\\d{1,2})[-|\\/](?P<day>\\d{1,2})-(?P<year>\\d{2,4})\", txt)\n",
    "print(fullSpan, \"\\n\")\n",
    "\n",
    "print(\"retrieved in as a tuple/ full span\")\n",
    "print(\"all parts:\", fullSpan.groups(), \"=\", fullSpan.group(0), \"\\n\")\n",
    "\n",
    "print(\"retrieved as a dictionary\")\n",
    "print(fullSpan.groupdict(),\"\\n\")\n",
    "\n",
    "print(\"retrieved in parts\")\n",
    "print(\"month:\",fullSpan.group('month'), \"=\", fullSpan.group(1) )\n",
    "print(\"day:\",fullSpan.group('day'), \"=\", fullSpan.group(2))\n",
    "print(\"year:\",fullSpan.group('year'), \"=\", fullSpan.group(3))\n",
    "print(fullSpan.groupdict())\n"
   ]
  },
  {
   "cell_type": "markdown",
   "metadata": {},
   "source": [
    "## Coding exercise\n",
    "\n",
    "Create an expression using the group syntax above to identify the patient name (Jane Doe) of the following text. Then replace it with the new name (Mary Lamb).\n",
    "    "
   ]
  },
  {
   "cell_type": "code",
   "execution_count": null,
   "metadata": {
    "collapsed": false
   },
   "outputs": [],
   "source": [
    "txt=\"Patient Name: Jane Doe\"\n",
    "re.subn(\"(?<=Patient Name: )\\w+ \\w+\", \"Mary Lamb\", txt)\n"
   ]
  },
  {
   "cell_type": "markdown",
   "metadata": {},
   "source": [
    "## For more detailed information about regexs\n",
    "\n",
    "Please view the following video by Professors Dan Jurafsky & Chris Manning\n"
   ]
  },
  {
   "cell_type": "code",
   "execution_count": null,
   "metadata": {
    "collapsed": false
   },
   "outputs": [],
   "source": [
    "YouTubeVideo(\"hwDhO1GLb_4?list=PL6397E4B26D00A269\", width = 800, height=600)"
   ]
  },
  {
   "cell_type": "markdown",
   "metadata": {
    "collapsed": true
   },
   "source": [
    "## Want to try some expressions without coding?\n",
    "Try [pythex](http://pythex.org/) "
   ]
  }
 ],
 "metadata": {
  "kernelspec": {
   "display_name": "Python 3",
   "language": "python",
   "name": "python3"
  },
  "language_info": {
   "codemirror_mode": {
    "name": "ipython",
    "version": 3
   },
   "file_extension": ".py",
   "mimetype": "text/x-python",
   "name": "python",
   "nbconvert_exporter": "python",
   "pygments_lexer": "ipython3",
   "version": "3.5.2"
  },
  "widgets": {
   "state": {},
   "version": "1.1.1"
  }
 },
 "nbformat": 4,
 "nbformat_minor": 1
}
