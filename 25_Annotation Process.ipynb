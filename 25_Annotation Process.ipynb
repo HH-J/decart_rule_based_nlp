{
 "cells": [
  {
   "cell_type": "markdown",
   "metadata": {
    "nbpresent": {
     "id": "5d766b6c-bdc6-403f-870f-9791eaec1fa9"
    }
   },
   "source": [
    "# Once your guideline is finalized, you are ready to begin annotation"
   ]
  },
  {
   "cell_type": "markdown",
   "metadata": {},
   "source": [
    "## Who should annotate?"
   ]
  },
  {
   "cell_type": "markdown",
   "metadata": {
    "nbpresent": {
     "id": "b6c76d5b-6bfe-46ef-a319-956e892fb7bb"
    }
   },
   "source": [
    "![image.png](./images/Slide21.png)\n"
   ]
  },
  {
   "cell_type": "markdown",
   "metadata": {
    "nbpresent": {
     "id": "48953aca-da81-47fc-86e6-bad5232ba7db"
    }
   },
   "source": [
    "![image.png](./images/Slide22.png)"
   ]
  },
  {
   "cell_type": "markdown",
   "metadata": {
    "nbpresent": {
     "id": "be6e7265-b2e0-4e31-af71-716a82a9a6c1"
    }
   },
   "source": [
    "![image.png](./images/Slide23.png)\n"
   ]
  },
  {
   "cell_type": "markdown",
   "metadata": {
    "nbpresent": {
     "id": "5ea915a7-17d9-45ab-958c-ec3668f220b0"
    }
   },
   "source": [
    "![image.png](./images/Slide24.png)\n"
   ]
  },
  {
   "cell_type": "markdown",
   "metadata": {
    "nbpresent": {
     "id": "991e59c2-b17c-46c1-802a-0334a65d573c"
    }
   },
   "source": [
    "![image.png](./images/Slide25.png)"
   ]
  },
  {
   "cell_type": "markdown",
   "metadata": {
    "nbpresent": {
     "id": "5bb3cbf7-396e-460f-bf0f-de7f065eac2a"
    }
   },
   "source": [
    "<html><br/><br/>This material presented as part of the DeCART Data Science for the Health Science Summer Program at the University of Utah in 2019.<br/>\n",
    "Presenters : Dr. Wendy Chapman, Kelly Peterson, Alec Chapman, Jianlin Shi <br> Acknowledgement: Many thanks to Olga Patterson because part of the materials are adopted from his previous work.\n",
    "</html>"
   ]
  },
  {
   "cell_type": "code",
   "execution_count": null,
   "metadata": {
    "nbpresent": {
     "id": "847e11bf-7d1b-4a18-a976-da7df9936e9f"
    }
   },
   "outputs": [],
   "source": []
  }
 ],
 "metadata": {
  "kernelspec": {
   "display_name": "Python 3",
   "language": "python",
   "name": "python3"
  },
  "language_info": {
   "codemirror_mode": {
    "name": "ipython",
    "version": 3
   },
   "file_extension": ".py",
   "mimetype": "text/x-python",
   "name": "python",
   "nbconvert_exporter": "python",
   "pygments_lexer": "ipython3",
   "version": "3.7.3"
  },
  "nbpresent": {
   "slides": {
    "10a608ec-497c-468b-9059-f1990f3d1776": {
     "id": "10a608ec-497c-468b-9059-f1990f3d1776",
     "prev": "88a8bf42-b4f5-4692-a4bc-f41a5bf3eb59",
     "regions": {
      "e5c85f17-92ad-4500-be18-71942cf99dc8": {
       "attrs": {
        "height": 1,
        "width": 1,
        "x": 0,
        "y": 0
       },
       "content": {
        "cell": "5ea915a7-17d9-45ab-958c-ec3668f220b0",
        "part": "source"
       },
       "id": "e5c85f17-92ad-4500-be18-71942cf99dc8"
      }
     }
    },
    "4f38c9b3-5242-46a3-af7a-01b67c2fa812": {
     "id": "4f38c9b3-5242-46a3-af7a-01b67c2fa812",
     "prev": null,
     "regions": {
      "ae560ae4-35aa-4641-b561-6e0a96befd38": {
       "attrs": {
        "height": 1,
        "width": 1,
        "x": 0,
        "y": 0
       },
       "content": {
        "cell": "b6c76d5b-6bfe-46ef-a319-956e892fb7bb",
        "part": "source"
       },
       "id": "ae560ae4-35aa-4641-b561-6e0a96befd38"
      }
     }
    },
    "88a8bf42-b4f5-4692-a4bc-f41a5bf3eb59": {
     "id": "88a8bf42-b4f5-4692-a4bc-f41a5bf3eb59",
     "prev": "d75116f7-40c4-4611-ae25-850ace3bd03e",
     "regions": {
      "302ba758-0894-4c32-b0b1-f539ddbb292c": {
       "attrs": {
        "height": 1,
        "width": 1,
        "x": 0,
        "y": 0
       },
       "content": {
        "cell": "be6e7265-b2e0-4e31-af71-716a82a9a6c1",
        "part": "source"
       },
       "id": "302ba758-0894-4c32-b0b1-f539ddbb292c"
      }
     }
    },
    "89aca6c7-0778-41d2-81fe-a78b78c2814f": {
     "id": "89aca6c7-0778-41d2-81fe-a78b78c2814f",
     "prev": "10a608ec-497c-468b-9059-f1990f3d1776",
     "regions": {
      "3e96abbe-6422-4a22-bf92-d304b536c96d": {
       "attrs": {
        "height": 1,
        "width": 1,
        "x": 0,
        "y": 0
       },
       "content": {
        "cell": "991e59c2-b17c-46c1-802a-0334a65d573c",
        "part": "source"
       },
       "id": "3e96abbe-6422-4a22-bf92-d304b536c96d"
      }
     }
    },
    "d75116f7-40c4-4611-ae25-850ace3bd03e": {
     "id": "d75116f7-40c4-4611-ae25-850ace3bd03e",
     "prev": "4f38c9b3-5242-46a3-af7a-01b67c2fa812",
     "regions": {
      "d3ebb11f-1651-471e-94d9-a89447b0bb1d": {
       "attrs": {
        "height": 1,
        "width": 1,
        "x": 0,
        "y": 0
       },
       "content": {
        "cell": "48953aca-da81-47fc-86e6-bad5232ba7db",
        "part": "source"
       },
       "id": "d3ebb11f-1651-471e-94d9-a89447b0bb1d"
      }
     }
    }
   },
   "themes": {}
  },
  "toc": {
   "base_numbering": 1,
   "nav_menu": {},
   "number_sections": true,
   "sideBar": true,
   "skip_h1_title": false,
   "title_cell": "Table of Contents",
   "title_sidebar": "Contents",
   "toc_cell": false,
   "toc_position": {},
   "toc_section_display": true,
   "toc_window_display": false
  }
 },
 "nbformat": 4,
 "nbformat_minor": 2
}
