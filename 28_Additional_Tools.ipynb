{
 "cells": [
  {
   "cell_type": "markdown",
   "metadata": {},
   "source": [
    "# EasyCIE (Easy Clinical Information Extractor)\n",
    "\n",
    "EasyCIE(Easy Clinical Information Extractor) is a rule-based clinical information extraction tool designed for non-NLP(natural language processing) expert users. It can import text data, Brat or eHOST formatted annotations, run/configure rule-based NLP pipelines, evaluate performance without a single code.\n",
    "\n",
    " <img src=\"images/Selection_065.png\" alt=\"EasyCIE screenshot\" style=\"width:513px;height:399px;\"> \n",
    "\n",
    "For more information, check it out at:\n",
    "https://github.com/jianlins/EasyCIE_GUI/wiki"
   ]
  },
  {
   "cell_type": "markdown",
   "metadata": {},
   "source": [
    "# SmartAnno\n",
    "\n",
    "SmartAnno is a semi-automatic annotation tool implemented within jupyter notebook. It uses deep learning model in the backend to learn better and better preannotation models over time while you annotating the data. It also integrates word embedding, and UMLS synonym heuristics to improve learning rate.\n",
    "\n",
    "\n",
    "<img src=\"images/Selection_066.png\" alt=\"SmartAnno screenshot\" style=\"width:538px;height:292px;\"> \n",
    "\n",
    "For more information, check it out at: https://github.com/jianlins/smartanno"
   ]
  },
  {
   "cell_type": "markdown",
   "metadata": {},
   "source": [
    "### Feel free to have a try on Colab\n",
    "\n",
    "https://colab.research.google.com/drive/1FUl5ps17-V2MJ0nQpwR4myh6nv9SVgMJ"
   ]
  },
  {
   "cell_type": "code",
   "execution_count": null,
   "metadata": {},
   "outputs": [],
   "source": []
  }
 ],
 "metadata": {
  "kernelspec": {
   "display_name": "Python 3",
   "language": "python",
   "name": "python3"
  },
  "language_info": {
   "codemirror_mode": {
    "name": "ipython",
    "version": 3
   },
   "file_extension": ".py",
   "mimetype": "text/x-python",
   "name": "python",
   "nbconvert_exporter": "python",
   "pygments_lexer": "ipython3",
   "version": "3.7.3"
  },
  "toc": {
   "base_numbering": 1,
   "nav_menu": {},
   "number_sections": true,
   "sideBar": true,
   "skip_h1_title": false,
   "title_cell": "Table of Contents",
   "title_sidebar": "Contents",
   "toc_cell": false,
   "toc_position": {},
   "toc_section_display": true,
   "toc_window_display": false
  }
 },
 "nbformat": 4,
 "nbformat_minor": 2
}
